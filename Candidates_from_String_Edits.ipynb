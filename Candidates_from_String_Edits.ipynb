{
  "nbformat": 4,
  "nbformat_minor": 0,
  "metadata": {
    "colab": {
      "name": "Candidates from String Edits",
      "provenance": []
    },
    "kernelspec": {
      "name": "python3",
      "display_name": "Python 3"
    },
    "language_info": {
      "name": "python"
    }
  },
  "cells": [
    {
      "cell_type": "markdown",
      "metadata": {
        "id": "eimoYnnYUgM9"
      },
      "source": [
        "# Candidates from String Edits"
      ]
    },
    {
      "cell_type": "code",
      "metadata": {
        "id": "KR9BeN3JUih4"
      },
      "source": [
        "# data\n",
        "word = 'dearz' # 🦌"
      ],
      "execution_count": 1,
      "outputs": []
    },
    {
      "cell_type": "markdown",
      "metadata": {
        "id": "9LrYqWdvVBCL"
      },
      "source": [
        "# Splits\n",
        "Find all the ways you can split a word into 2 parts !"
      ]
    },
    {
      "cell_type": "code",
      "metadata": {
        "colab": {
          "base_uri": "https://localhost:8080/"
        },
        "id": "iL72OpM9Uc_q",
        "outputId": "15d4464f-93c4-4502-8179-dfec8db172d3"
      },
      "source": [
        "split_words = []\n",
        "\n",
        "for i in range(len(word)):\n",
        "  split_words.append((word[:i+1],word[i+1:]))\n",
        "\n",
        "print(split_words)"
      ],
      "execution_count": 4,
      "outputs": [
        {
          "output_type": "stream",
          "name": "stdout",
          "text": [
            "[('d', 'earz'), ('de', 'arz'), ('dea', 'rz'), ('dear', 'z'), ('dearz', '')]\n"
          ]
        }
      ]
    },
    {
      "cell_type": "code",
      "metadata": {
        "colab": {
          "base_uri": "https://localhost:8080/"
        },
        "id": "OMEBYXjdVXoY",
        "outputId": "157dbd49-78b1-4ecd-a17d-c02bcf361887"
      },
      "source": [
        "split_words = []\n",
        "split_words = [ [word[:i+1],word[i+1:]] for i in range(len(word))]\n",
        "for i in split_words:\n",
        "  print(i)"
      ],
      "execution_count": 7,
      "outputs": [
        {
          "output_type": "stream",
          "name": "stdout",
          "text": [
            "['d', 'earz']\n",
            "['de', 'arz']\n",
            "['dea', 'rz']\n",
            "['dear', 'z']\n",
            "['dearz', '']\n"
          ]
        }
      ]
    },
    {
      "cell_type": "markdown",
      "metadata": {
        "id": "Q-rjhdb7VoDa"
      },
      "source": [
        "# Delete Edit\n",
        "Delete a letter from each string in the splits list.\n",
        "What this does is effectivly delete each possible letter from the original word being edited."
      ]
    },
    {
      "cell_type": "code",
      "metadata": {
        "colab": {
          "base_uri": "https://localhost:8080/"
        },
        "id": "J1TSc8fzWCdQ",
        "outputId": "74dba121-3522-4221-a045-f1cf18d08c46"
      },
      "source": [
        "# deletes with a loop\n",
        "splits = split_words\n",
        "deletes = []\n",
        "\n",
        "print('word : ', word)\n",
        "for L,R in splits:\n",
        "    if R:\n",
        "        print(L + R[1:], ' <-- delete ', R[0])"
      ],
      "execution_count": 8,
      "outputs": [
        {
          "output_type": "stream",
          "name": "stdout",
          "text": [
            "word :  dearz\n",
            "darz  <-- delete  e\n",
            "derz  <-- delete  a\n",
            "deaz  <-- delete  r\n",
            "dear  <-- delete  z\n"
          ]
        }
      ]
    },
    {
      "cell_type": "code",
      "metadata": {
        "colab": {
          "base_uri": "https://localhost:8080/"
        },
        "id": "iR8KkD1kYhhC",
        "outputId": "6dce2ec5-a122-48bc-99de-b9999ec3359d"
      },
      "source": [
        "# breaking it down\n",
        "print('word : ', word)\n",
        "one_split = splits[0]\n",
        "print('first item from the splits list : ', one_split)\n",
        "L = one_split[0]\n",
        "R = one_split[1]\n",
        "print('L : ', L)\n",
        "print('R : ', R)\n",
        "print('*** now implicit delete by excluding the leading letter ***')\n",
        "print('L + R[1:] : ',L + R[1:], ' <-- delete ', R[0])"
      ],
      "execution_count": 9,
      "outputs": [
        {
          "output_type": "stream",
          "name": "stdout",
          "text": [
            "word :  dearz\n",
            "first item from the splits list :  ['d', 'earz']\n",
            "L :  d\n",
            "R :  earz\n",
            "*** now implicit delete by excluding the leading letter ***\n",
            "L + R[1:] :  darz  <-- delete  e\n"
          ]
        }
      ]
    },
    {
      "cell_type": "code",
      "metadata": {
        "id": "QxclbmjrZjP4"
      },
      "source": [
        ""
      ],
      "execution_count": null,
      "outputs": []
    }
  ]
}